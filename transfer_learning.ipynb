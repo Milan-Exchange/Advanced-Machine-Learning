{
 "cells": [
  {
   "cell_type": "code",
   "execution_count": 2,
   "metadata": {
    "pycharm": {
     "name": "#%%\n"
    }
   },
   "outputs": [],
   "source": [
    "import os.path\n",
    "import datetime\n",
    "from pathlib import Path\n",
    "\n",
    "# essentials\n",
    "import tensorflow as tf\n",
    "import numpy as np\n",
    "import matplotlib.pyplot as plt\n",
    "import pandas as pd\n",
    "\n",
    "# tensorflow tools\n",
    "import keras\n",
    "from keras.applications.vgg16 import VGG16, preprocess_input as vgg16_preprocess\n",
    "from keras.applications.xception import Xception, preprocess_input as xception_preprocess\n",
    "from keras.applications.resnet import ResNet152, preprocess_input as resnet_preprocess\n",
    "from keras.preprocessing import image\n",
    "from keras.applications import imagenet_utils\n",
    "from keras import Model\n",
    "from keras.layers import Dense, Flatten, Input, Conv2D, MaxPooling2D, AveragePooling2D, Concatenate, Add, Activation, Dropout, GlobalAveragePooling2D\n",
    "from keras.callbacks import ModelCheckpoint, EarlyStopping, TensorBoard\n",
    "from keras.utils import plot_model"
   ]
  },
  {
   "cell_type": "markdown",
   "metadata": {},
   "source": [
    "# Loading data"
   ]
  },
  {
   "cell_type": "code",
   "execution_count": null,
   "metadata": {
    "pycharm": {
     "name": "#%%\n"
    }
   },
   "outputs": [],
   "source": [
    "# Filepaths to training and test sets\n",
    "base_dir = './data/Fruits-360/fruits-360_dataset/fruits-360'\n",
    "\n",
    "train_filepaths = list(Path(base_dir + '/Training').glob(r'**/*.jpg'))\n",
    "test_filepaths = list(Path(base_dir + '/Test').glob(r'**/*.jpg'))"
   ]
  },
  {
   "cell_type": "code",
   "execution_count": null,
   "metadata": {
    "pycharm": {
     "name": "#%%\n"
    }
   },
   "outputs": [],
   "source": [
    "# Obtaining labels from filepaths function\n",
    "def get_fruit_label(filepaths):\n",
    "    labels = [str(filepath).split('\\\\')[-2].split(' ')[0] for filepath in filepaths]\n",
    "\n",
    "    filepaths = pd.Series(filepaths, name='Filepath').astype(str)\n",
    "    labels = pd.Series(labels, name='Label')\n",
    "\n",
    "    fruits_df = pd.concat([filepaths, labels], axis=1)\n",
    "\n",
    "    return fruits_df"
   ]
  },
  {
   "cell_type": "code",
   "execution_count": null,
   "metadata": {
    "pycharm": {
     "name": "#%%\n"
    }
   },
   "outputs": [],
   "source": [
    "# Creating datasets with image filepaths and corresponding labels\n",
    "train_df = get_fruit_label(train_filepaths)\n",
    "test_df = get_fruit_label(test_filepaths)"
   ]
  },
  {
   "cell_type": "code",
   "execution_count": null,
   "metadata": {
    "pycharm": {
     "name": "#%%\n"
    }
   },
   "outputs": [],
   "source": [
    "# Getting a list of labels\n",
    "label_list = train_df.Label.unique().tolist()"
   ]
  },
  {
   "cell_type": "code",
   "execution_count": null,
   "metadata": {
    "pycharm": {
     "name": "#%%\n"
    }
   },
   "outputs": [],
   "source": [
    "# Fixed parameters\n",
    "image_size = (224, 224, 3)\n",
    "batch_size = 32\n",
    "num_classes = len(label_list)"
   ]
  },
  {
   "cell_type": "code",
   "execution_count": null,
   "metadata": {
    "pycharm": {
     "name": "#%%\n"
    }
   },
   "outputs": [],
   "source": [
    "# Creating data generators for training and test sets\n",
    "train_datagen = image.ImageDataGenerator(\n",
    "    validation_split=0.2,\n",
    "    rotation_range=180,\n",
    "    shear_range=10,\n",
    "    horizontal_flip=True,\n",
    "    vertical_flip=True\n",
    ")\n",
    "\n",
    "test_datagen = image.ImageDataGenerator()"
   ]
  },
  {
   "cell_type": "code",
   "execution_count": null,
   "metadata": {
    "pycharm": {
     "name": "#%%\n"
    }
   },
   "outputs": [],
   "source": [
    "train_gen = train_datagen.flow_from_dataframe(\n",
    "    dataframe=train_df,\n",
    "    x_col='Filepath',\n",
    "    y_col='Label',\n",
    "    batch_size=batch_size,\n",
    "    class_mode='categorical',\n",
    "    subset='training',\n",
    "    shuffle=True,\n",
    "    target_size=image_size[:-1]\n",
    ")\n",
    "\n",
    "validation_gen = train_datagen.flow_from_dataframe(\n",
    "    dataframe=train_df,\n",
    "    x_col='Filepath',\n",
    "    y_col='Label',\n",
    "    batch_size=batch_size,\n",
    "    class_mode='categorical',\n",
    "    subset='validation',\n",
    "    shuffle=True,\n",
    "    target_size=image_size[:-1]\n",
    ")\n",
    "\n",
    "test_gen = test_datagen.flow_from_dataframe(\n",
    "    dataframe=test_df,\n",
    "    x_col='Filepath',\n",
    "    y_col='Label',\n",
    "    batch_size=batch_size,\n",
    "    class_mode='categorical',\n",
    "    shuffle=True,\n",
    "    target_size=image_size[:-1]\n",
    ")"
   ]
  },
  {
   "cell_type": "markdown",
   "metadata": {},
   "source": [
    "# Models"
   ]
  },
  {
   "cell_type": "code",
   "execution_count": null,
   "metadata": {
    "pycharm": {
     "name": "#%%\n"
    }
   },
   "outputs": [],
   "source": [
    "# Building a pretrained model with a custom top function\n",
    "def build_model(pretrained_model):\n",
    "    x = Dense(256, activation='relu')(pretrained_model.output)\n",
    "    output = Dense(num_classes, activation='softmax')(x)\n",
    "\n",
    "    return Model(inputs=pretrained_model.input, outputs=output)"
   ]
  },
  {
   "cell_type": "code",
   "execution_count": 4,
   "metadata": {},
   "outputs": [],
   "source": [
    "def plot_test_generator_sample(preprocess_function, model):\n",
    "    test_datagen.preprocessing_function = None\n",
    "    X_sample, y_sample = test_gen.next()\n",
    "\n",
    "    apply_preprocess = np.vectorize(preprocess_function)\n",
    "    predictions_vgg16 = model.predict(apply_preprocess(X_sample), verbose=0)\n",
    "\n",
    "    fig, axes = plt.subplots(4, 8, figsize=(15, 7), subplot_kw={'xticks' : [], 'yticks' : []})\n",
    "    for i, ax in enumerate(axes.flat):\n",
    "        ax.imshow(X_sample[i]/255.)\n",
    "        ax.set_title(f'True: {label_list[np.argmax(y_sample[i])]}\\nPredicted: {label_list[np.argmax(predictions_vgg16[i])]}', fontsize=8)\n",
    "    plt.tight_layout(pad=0.5)\n",
    "    plt.show()"
   ]
  },
  {
   "cell_type": "markdown",
   "metadata": {
    "pycharm": {
     "name": "#%% md\n"
    }
   },
   "source": [
    "## VGG16"
   ]
  },
  {
   "cell_type": "code",
   "execution_count": null,
   "metadata": {
    "pycharm": {
     "name": "#%%\n"
    }
   },
   "outputs": [],
   "source": [
    "# Applying VGG16's preprocess function on train and test data generators\n",
    "train_datagen.preprocessing_function = vgg16_preprocess\n",
    "test_datagen.preprocessing_function = vgg16_preprocess"
   ]
  },
  {
   "cell_type": "code",
   "execution_count": null,
   "metadata": {
    "pycharm": {
     "name": "#%%\n"
    }
   },
   "outputs": [],
   "source": [
    "# Loading a pretrained model without the top\n",
    "pretrained_model_vgg16 = VGG16(\n",
    "    input_shape=image_size,\n",
    "    include_top=False,\n",
    "    weights='imagenet',\n",
    "    pooling='avg'\n",
    ")\n",
    "\n",
    "pretrained_model_vgg16.trainable = False"
   ]
  },
  {
   "cell_type": "code",
   "execution_count": null,
   "metadata": {
    "pycharm": {
     "name": "#%%\n"
    }
   },
   "outputs": [],
   "source": [
    "# Model construction and compilation\n",
    "model_vgg16 = build_model(pretrained_model_vgg16)\n",
    "model_vgg16.compile(optimizer='Adam', loss='categorical_crossentropy', metrics=['accuracy'])"
   ]
  },
  {
   "cell_type": "code",
   "execution_count": null,
   "metadata": {
    "pycharm": {
     "name": "#%%\n"
    }
   },
   "outputs": [],
   "source": [
    "# Model learning\n",
    "model_vgg16.fit(train_gen, validation_data=validation_gen, epochs=1)"
   ]
  },
  {
   "cell_type": "code",
   "execution_count": null,
   "metadata": {
    "pycharm": {
     "name": "#%%\n"
    }
   },
   "outputs": [],
   "source": [
    "# Model evaluation\n",
    "loss_vgg16, accuracy_vgg16 = model_vgg16.evaluate(test_gen)"
   ]
  },
  {
   "cell_type": "code",
   "execution_count": null,
   "metadata": {
    "pycharm": {
     "name": "#%%\n"
    }
   },
   "outputs": [],
   "source": [
    "# Plotting a sample of images with predicted and true labels\n",
    "plot_test_generator_sample(vgg16_preprocess, model_vgg16)"
   ]
  },
  {
   "cell_type": "markdown",
   "metadata": {
    "pycharm": {
     "name": "#%% md\n"
    }
   },
   "source": [
    "## Xception"
   ]
  },
  {
   "cell_type": "code",
   "execution_count": null,
   "metadata": {
    "pycharm": {
     "name": "#%%\n"
    }
   },
   "outputs": [],
   "source": [
    "# Applying Xception's preprocess function on train and test data generators\n",
    "train_datagen.preprocessing_function = xception_preprocess\n",
    "test_datagen.preprocessing_function = xception_preprocess"
   ]
  },
  {
   "cell_type": "code",
   "execution_count": null,
   "metadata": {
    "pycharm": {
     "name": "#%%\n"
    }
   },
   "outputs": [],
   "source": [
    "# Loading a pretrained model without the top\n",
    "pretrained_model_xception = Xception(\n",
    "    input_shape=image_size,\n",
    "    include_top=False,\n",
    "    weights='imagenet',\n",
    "    pooling='avg'\n",
    ")\n",
    "\n",
    "pretrained_model_xception.trainable = False"
   ]
  },
  {
   "cell_type": "code",
   "execution_count": null,
   "metadata": {
    "pycharm": {
     "name": "#%%\n"
    }
   },
   "outputs": [],
   "source": [
    "# Model construction and compilation\n",
    "model_xception = build_model(pretrained_model_xception)\n",
    "model_xception.compile(optimizer='Adam', loss='categorical_crossentropy', metrics=['accuracy'])"
   ]
  },
  {
   "cell_type": "code",
   "execution_count": null,
   "metadata": {
    "pycharm": {
     "name": "#%%\n"
    }
   },
   "outputs": [],
   "source": [
    "# Model learning\n",
    "model_xception.fit(train_gen, validation_data=validation_gen, batch_size=batch_size, epochs=1)"
   ]
  },
  {
   "cell_type": "code",
   "execution_count": null,
   "metadata": {
    "pycharm": {
     "name": "#%%\n"
    }
   },
   "outputs": [],
   "source": [
    "# Model evaluation\n",
    "loss_xception, accuracy_xception = model_xception.evaluate(test_gen)"
   ]
  },
  {
   "cell_type": "code",
   "execution_count": null,
   "metadata": {
    "pycharm": {
     "name": "#%%\n"
    }
   },
   "outputs": [],
   "source": [
    "# Plotting a sample of images with predicted and true labels\n",
    "plot_test_generator_sample(xception_preprocess, model_xception)"
   ]
  },
  {
   "cell_type": "markdown",
   "metadata": {},
   "source": [
    "## Resnet152"
   ]
  },
  {
   "cell_type": "code",
   "execution_count": 3,
   "metadata": {},
   "outputs": [
    {
     "ename": "NameError",
     "evalue": "name 'train_datagen' is not defined",
     "output_type": "error",
     "traceback": [
      "\u001b[1;31m---------------------------------------------------------------------------\u001b[0m",
      "\u001b[1;31mNameError\u001b[0m                                 Traceback (most recent call last)",
      "Cell \u001b[1;32mIn[3], line 2\u001b[0m\n\u001b[0;32m      1\u001b[0m \u001b[38;5;66;03m# Applying Xception's preprocess function on train and test data generators\u001b[39;00m\n\u001b[1;32m----> 2\u001b[0m \u001b[43mtrain_datagen\u001b[49m\u001b[38;5;241m.\u001b[39mpreprocessing_function \u001b[38;5;241m=\u001b[39m resnet_preprocess\n\u001b[0;32m      3\u001b[0m test_datagen\u001b[38;5;241m.\u001b[39mpreprocessing_function \u001b[38;5;241m=\u001b[39m resnet_preprocess\n",
      "\u001b[1;31mNameError\u001b[0m: name 'train_datagen' is not defined"
     ]
    }
   ],
   "source": [
    "# Applying Xception's preprocess function on train and test data generators\n",
    "train_datagen.preprocessing_function = resnet_preprocess\n",
    "test_datagen.preprocessing_function = resnet_preprocess"
   ]
  },
  {
   "cell_type": "code",
   "execution_count": null,
   "metadata": {},
   "outputs": [],
   "source": [
    "# Loading a pretrained model without the top\n",
    "pretrained_model_resnet152 = Resnet152(\n",
    "    input_shape=image_size,\n",
    "    include_top=False,\n",
    "    weights='imagenet',\n",
    "    pooling='avg'\n",
    ")\n",
    "\n",
    "pretrained_model_resnet152.trainable = False"
   ]
  },
  {
   "cell_type": "code",
   "execution_count": null,
   "metadata": {},
   "outputs": [],
   "source": [
    "# Model construction and compilation\n",
    "model_resnet152 = build_model(pretrained_model_resnet152)\n",
    "model_resnet152.compile(optimizer='Adam', loss='categorical_crossentropy', metrics=['accuracy'])"
   ]
  },
  {
   "cell_type": "code",
   "execution_count": null,
   "metadata": {},
   "outputs": [],
   "source": [
    "# Model learning\n",
    "model_resnet152.fit(train_gen, validation_data=validation_gen, batch_size=batch_size, epochs=1)"
   ]
  },
  {
   "cell_type": "code",
   "execution_count": null,
   "metadata": {},
   "outputs": [],
   "source": [
    "# Model evaluation\n",
    "loss_resnet152, accuracy_resnet152 = model_resnet152.evaluate(test_gen)"
   ]
  },
  {
   "cell_type": "code",
   "execution_count": null,
   "metadata": {},
   "outputs": [],
   "source": [
    "# Plotting a sample of images with predicted and true labels\n",
    "plot_test_generator_sample(resnet_preprocess, model_resnet152)"
   ]
  },
  {
   "cell_type": "markdown",
   "metadata": {},
   "source": [
    "# All three comparasing"
   ]
  },
  {
   "cell_type": "code",
   "execution_count": null,
   "metadata": {},
   "outputs": [],
   "source": [
    "loss_acc_df = pd.DataFrame([[loss_resnet152, accuracy_resnet152],\n",
    "                            [loss_xception, accuracy_xception],\n",
    "                            [loss_vgg16, accuracy_vgg16]],\n",
    "                          columns = [\"Loss\", \"Accuracy\"],\n",
    "                          index = [\"ResNet152\", \"Xception\", \"VGG16\"])\n",
    "\n",
    "loss_acc_df"
   ]
  }
 ],
 "metadata": {
  "kernelspec": {
   "display_name": "Python 3 (ipykernel)",
   "language": "python",
   "name": "python3"
  },
  "language_info": {
   "codemirror_mode": {
    "name": "ipython",
    "version": 3
   },
   "file_extension": ".py",
   "mimetype": "text/x-python",
   "name": "python",
   "nbconvert_exporter": "python",
   "pygments_lexer": "ipython3",
   "version": "3.9.15"
  }
 },
 "nbformat": 4,
 "nbformat_minor": 1
}
